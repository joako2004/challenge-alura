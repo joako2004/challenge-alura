{
  "cells": [
    {
      "cell_type": "markdown",
      "metadata": {
        "id": "RhEdWd9YUR6H"
      },
      "source": [
        "### Importación de datos\n",
        "\n"
      ]
    },
    {
      "cell_type": "code",
      "execution_count": 26,
      "metadata": {
        "colab": {
          "base_uri": "https://localhost:8080/",
          "height": 206
        },
        "id": "T3EvaeQ_INIL",
        "outputId": "e9c5efe1-82a3-43ab-e8d7-6d01e4fa3514"
      },
      "outputs": [
        {
          "data": {
            "text/html": [
              "<div>\n",
              "<style scoped>\n",
              "    .dataframe tbody tr th:only-of-type {\n",
              "        vertical-align: middle;\n",
              "    }\n",
              "\n",
              "    .dataframe tbody tr th {\n",
              "        vertical-align: top;\n",
              "    }\n",
              "\n",
              "    .dataframe thead th {\n",
              "        text-align: right;\n",
              "    }\n",
              "</style>\n",
              "<table border=\"1\" class=\"dataframe\">\n",
              "  <thead>\n",
              "    <tr style=\"text-align: right;\">\n",
              "      <th></th>\n",
              "      <th>Producto</th>\n",
              "      <th>Categoría del Producto</th>\n",
              "      <th>Precio</th>\n",
              "      <th>Costo de envío</th>\n",
              "      <th>Fecha de Compra</th>\n",
              "      <th>Vendedor</th>\n",
              "      <th>Lugar de Compra</th>\n",
              "      <th>Calificación</th>\n",
              "      <th>Método de pago</th>\n",
              "      <th>Cantidad de cuotas</th>\n",
              "      <th>lat</th>\n",
              "      <th>lon</th>\n",
              "    </tr>\n",
              "  </thead>\n",
              "  <tbody>\n",
              "    <tr>\n",
              "      <th>0</th>\n",
              "      <td>Asistente virtual</td>\n",
              "      <td>Electrónicos</td>\n",
              "      <td>164300.0</td>\n",
              "      <td>6900.0</td>\n",
              "      <td>16/01/2021</td>\n",
              "      <td>Pedro Gomez</td>\n",
              "      <td>Bogotá</td>\n",
              "      <td>4</td>\n",
              "      <td>Tarjeta de crédito</td>\n",
              "      <td>8</td>\n",
              "      <td>4.60971</td>\n",
              "      <td>-74.08175</td>\n",
              "    </tr>\n",
              "    <tr>\n",
              "      <th>1</th>\n",
              "      <td>Mesa de comedor</td>\n",
              "      <td>Muebles</td>\n",
              "      <td>192300.0</td>\n",
              "      <td>8400.0</td>\n",
              "      <td>18/05/2022</td>\n",
              "      <td>Beatriz Morales</td>\n",
              "      <td>Medellín</td>\n",
              "      <td>1</td>\n",
              "      <td>Tarjeta de crédito</td>\n",
              "      <td>4</td>\n",
              "      <td>6.25184</td>\n",
              "      <td>-75.56359</td>\n",
              "    </tr>\n",
              "    <tr>\n",
              "      <th>2</th>\n",
              "      <td>Juego de mesa</td>\n",
              "      <td>Juguetes</td>\n",
              "      <td>209600.0</td>\n",
              "      <td>15900.0</td>\n",
              "      <td>15/03/2021</td>\n",
              "      <td>Juan Fernandez</td>\n",
              "      <td>Cartagena</td>\n",
              "      <td>1</td>\n",
              "      <td>Tarjeta de crédito</td>\n",
              "      <td>1</td>\n",
              "      <td>10.39972</td>\n",
              "      <td>-75.51444</td>\n",
              "    </tr>\n",
              "    <tr>\n",
              "      <th>3</th>\n",
              "      <td>Microondas</td>\n",
              "      <td>Electrodomésticos</td>\n",
              "      <td>757500.0</td>\n",
              "      <td>41000.0</td>\n",
              "      <td>03/05/2022</td>\n",
              "      <td>Juan Fernandez</td>\n",
              "      <td>Cali</td>\n",
              "      <td>4</td>\n",
              "      <td>Nequi</td>\n",
              "      <td>1</td>\n",
              "      <td>3.43722</td>\n",
              "      <td>-76.52250</td>\n",
              "    </tr>\n",
              "    <tr>\n",
              "      <th>4</th>\n",
              "      <td>Silla de oficina</td>\n",
              "      <td>Muebles</td>\n",
              "      <td>335200.0</td>\n",
              "      <td>20200.0</td>\n",
              "      <td>07/11/2020</td>\n",
              "      <td>Maria Alfonso</td>\n",
              "      <td>Medellín</td>\n",
              "      <td>5</td>\n",
              "      <td>Nequi</td>\n",
              "      <td>1</td>\n",
              "      <td>6.25184</td>\n",
              "      <td>-75.56359</td>\n",
              "    </tr>\n",
              "    <tr>\n",
              "      <th>...</th>\n",
              "      <td>...</td>\n",
              "      <td>...</td>\n",
              "      <td>...</td>\n",
              "      <td>...</td>\n",
              "      <td>...</td>\n",
              "      <td>...</td>\n",
              "      <td>...</td>\n",
              "      <td>...</td>\n",
              "      <td>...</td>\n",
              "      <td>...</td>\n",
              "      <td>...</td>\n",
              "      <td>...</td>\n",
              "    </tr>\n",
              "    <tr>\n",
              "      <th>2354</th>\n",
              "      <td>Iphone 15</td>\n",
              "      <td>Electrónicos</td>\n",
              "      <td>1284400.0</td>\n",
              "      <td>66600.0</td>\n",
              "      <td>15/11/2021</td>\n",
              "      <td>Izabela de León</td>\n",
              "      <td>Medellín</td>\n",
              "      <td>1</td>\n",
              "      <td>Nequi</td>\n",
              "      <td>1</td>\n",
              "      <td>6.25184</td>\n",
              "      <td>-75.56359</td>\n",
              "    </tr>\n",
              "    <tr>\n",
              "      <th>2355</th>\n",
              "      <td>Impresora</td>\n",
              "      <td>Electrónicos</td>\n",
              "      <td>282800.0</td>\n",
              "      <td>15300.0</td>\n",
              "      <td>18/03/2023</td>\n",
              "      <td>Lucas Olivera</td>\n",
              "      <td>Bogotá</td>\n",
              "      <td>5</td>\n",
              "      <td>Nequi</td>\n",
              "      <td>1</td>\n",
              "      <td>4.60971</td>\n",
              "      <td>-74.08175</td>\n",
              "    </tr>\n",
              "    <tr>\n",
              "      <th>2356</th>\n",
              "      <td>Juego de mesa</td>\n",
              "      <td>Juguetes</td>\n",
              "      <td>122900.0</td>\n",
              "      <td>7200.0</td>\n",
              "      <td>06/07/2021</td>\n",
              "      <td>Lucas Olivera</td>\n",
              "      <td>Cali</td>\n",
              "      <td>5</td>\n",
              "      <td>Tarjeta de crédito</td>\n",
              "      <td>4</td>\n",
              "      <td>3.43722</td>\n",
              "      <td>-76.52250</td>\n",
              "    </tr>\n",
              "    <tr>\n",
              "      <th>2357</th>\n",
              "      <td>Cama box</td>\n",
              "      <td>Muebles</td>\n",
              "      <td>691300.0</td>\n",
              "      <td>35000.0</td>\n",
              "      <td>02/05/2022</td>\n",
              "      <td>Pedro Gomez</td>\n",
              "      <td>Pasto</td>\n",
              "      <td>1</td>\n",
              "      <td>Tarjeta de crédito</td>\n",
              "      <td>2</td>\n",
              "      <td>1.21361</td>\n",
              "      <td>-77.28111</td>\n",
              "    </tr>\n",
              "    <tr>\n",
              "      <th>2358</th>\n",
              "      <td>Smartwatch</td>\n",
              "      <td>Electrónicos</td>\n",
              "      <td>195000.0</td>\n",
              "      <td>8600.0</td>\n",
              "      <td>18/06/2022</td>\n",
              "      <td>Felipe Santos</td>\n",
              "      <td>Cali</td>\n",
              "      <td>4</td>\n",
              "      <td>Tarjeta de crédito</td>\n",
              "      <td>1</td>\n",
              "      <td>3.43722</td>\n",
              "      <td>-76.52250</td>\n",
              "    </tr>\n",
              "  </tbody>\n",
              "</table>\n",
              "<p>2359 rows × 12 columns</p>\n",
              "</div>"
            ],
            "text/plain": [
              "               Producto Categoría del Producto     Precio  Costo de envío  \\\n",
              "0     Asistente virtual           Electrónicos   164300.0          6900.0   \n",
              "1       Mesa de comedor                Muebles   192300.0          8400.0   \n",
              "2         Juego de mesa               Juguetes   209600.0         15900.0   \n",
              "3            Microondas      Electrodomésticos   757500.0         41000.0   \n",
              "4      Silla de oficina                Muebles   335200.0         20200.0   \n",
              "...                 ...                    ...        ...             ...   \n",
              "2354          Iphone 15           Electrónicos  1284400.0         66600.0   \n",
              "2355          Impresora           Electrónicos   282800.0         15300.0   \n",
              "2356      Juego de mesa               Juguetes   122900.0          7200.0   \n",
              "2357           Cama box                Muebles   691300.0         35000.0   \n",
              "2358         Smartwatch           Electrónicos   195000.0          8600.0   \n",
              "\n",
              "     Fecha de Compra         Vendedor Lugar de Compra  Calificación  \\\n",
              "0         16/01/2021      Pedro Gomez          Bogotá             4   \n",
              "1         18/05/2022  Beatriz Morales        Medellín             1   \n",
              "2         15/03/2021   Juan Fernandez       Cartagena             1   \n",
              "3         03/05/2022   Juan Fernandez            Cali             4   \n",
              "4         07/11/2020    Maria Alfonso        Medellín             5   \n",
              "...              ...              ...             ...           ...   \n",
              "2354      15/11/2021  Izabela de León        Medellín             1   \n",
              "2355      18/03/2023    Lucas Olivera          Bogotá             5   \n",
              "2356      06/07/2021    Lucas Olivera            Cali             5   \n",
              "2357      02/05/2022      Pedro Gomez           Pasto             1   \n",
              "2358      18/06/2022    Felipe Santos            Cali             4   \n",
              "\n",
              "          Método de pago  Cantidad de cuotas       lat       lon  \n",
              "0     Tarjeta de crédito                   8   4.60971 -74.08175  \n",
              "1     Tarjeta de crédito                   4   6.25184 -75.56359  \n",
              "2     Tarjeta de crédito                   1  10.39972 -75.51444  \n",
              "3                  Nequi                   1   3.43722 -76.52250  \n",
              "4                  Nequi                   1   6.25184 -75.56359  \n",
              "...                  ...                 ...       ...       ...  \n",
              "2354               Nequi                   1   6.25184 -75.56359  \n",
              "2355               Nequi                   1   4.60971 -74.08175  \n",
              "2356  Tarjeta de crédito                   4   3.43722 -76.52250  \n",
              "2357  Tarjeta de crédito                   2   1.21361 -77.28111  \n",
              "2358  Tarjeta de crédito                   1   3.43722 -76.52250  \n",
              "\n",
              "[2359 rows x 12 columns]"
            ]
          },
          "execution_count": 26,
          "metadata": {},
          "output_type": "execute_result"
        }
      ],
      "source": [
        "import pandas as pd\n",
        "\n",
        "url = \"https://raw.githubusercontent.com/alura-es-cursos/challenge1-data-science-latam/refs/heads/main/base-de-datos-challenge1-latam/tienda_1%20.csv\"\n",
        "url2 = \"https://raw.githubusercontent.com/alura-es-cursos/challenge1-data-science-latam/refs/heads/main/base-de-datos-challenge1-latam/tienda_2.csv\"\n",
        "url3 = \"https://raw.githubusercontent.com/alura-es-cursos/challenge1-data-science-latam/refs/heads/main/base-de-datos-challenge1-latam/tienda_3.csv\"\n",
        "url4 = \"https://raw.githubusercontent.com/alura-es-cursos/challenge1-data-science-latam/refs/heads/main/base-de-datos-challenge1-latam/tienda_4.csv\"\n",
        "\n",
        "tienda = pd.read_csv(url)\n",
        "tienda2 = pd.read_csv(url2)\n",
        "tienda3 = pd.read_csv(url3)\n",
        "tienda4 = pd.read_csv(url4)\n",
        "\n",
        "tienda"
      ]
    },
    {
      "cell_type": "markdown",
      "metadata": {
        "id": "X62IW3KFUIYm"
      },
      "source": [
        "# 1. Análisis de facturación\n",
        "\n"
      ]
    },
    {
      "cell_type": "code",
      "execution_count": 34,
      "metadata": {
        "id": "xykobSftV64I"
      },
      "outputs": [
        {
          "name": "stdout",
          "output_type": "stream",
          "text": [
            "Total de la facturación de las tiendas: \n",
            "\n",
            "Total Tienda 1: 1,150,880,400.00\n",
            "Total Tienda 2: 1,116,343,500.00\n",
            "Total Tienda 3: 1,098,019,600.00\n",
            "Total Tienda 4: 1,038,375,700.00\n",
            "\n",
            "La tienda con mayor facturación es: Tienda 1 con un total de 1,150,880,400.00\n"
          ]
        }
      ],
      "source": [
        "facturacion_tiendas = {} # crear un diccionario con la facturación de cada tienda para evaluarla frente a las otras posteriormente \n",
        "\n",
        "total_tienda_uno = tienda['Precio'].sum() # seleecionar la columna Precio y sumar los valores\n",
        "facturacion_tiendas['Tienda 1'] = total_tienda_uno # guardar el resultado en el diccionario\n",
        "\n",
        "total_tienda_dos = tienda2['Precio'].sum()\n",
        "facturacion_tiendas['Tienda 2'] = total_tienda_dos\n",
        "\n",
        "total_tienda_tres = tienda3['Precio'].sum()\n",
        "facturacion_tiendas['Tienda 3'] = total_tienda_tres\n",
        "\n",
        "total_tienda_cuatro = tienda4['Precio'].sum()\n",
        "facturacion_tiendas['Tienda 4'] = total_tienda_cuatro\n",
        "\n",
        "mayor_facturacion = max(facturacion_tiendas, key=facturacion_tiendas.get) # obtener la tienda con mayor facturación\n",
        "\n",
        "print('Total de la facturación de las tiendas: \\n')\n",
        "\n",
        "for numero_tienda, facturacion in facturacion_tiendas.items(): # iterar sobre el diccionario\n",
        "    print(f\"Total {numero_tienda}: {facturacion:,.2f}\") \n",
        "\n",
        "print(f'\\nLa tienda con mayor facturación es: {mayor_facturacion} con un total de {facturacion_tiendas[mayor_facturacion]:,.2f}')\n",
        "\n",
        "\n"
      ]
    },
    {
      "cell_type": "code",
      "execution_count": null,
      "metadata": {
        "id": "KDyr8E71V3m-"
      },
      "outputs": [],
      "source": []
    },
    {
      "cell_type": "markdown",
      "metadata": {
        "id": "2V_vcAPzWZmR"
      },
      "source": [
        "# 2. Ventas por categoría"
      ]
    },
    {
      "cell_type": "code",
      "execution_count": null,
      "metadata": {
        "id": "A34YupIuYhfF"
      },
      "outputs": [
        {
          "name": "stdout",
          "output_type": "stream",
          "text": [
            "El total de productos vendidos por categoría en la tienda 1 es: Categoría del Producto\n",
            "Artículos para el hogar    171\n",
            "Deportes y diversión       284\n",
            "Electrodomésticos          312\n",
            "Electrónicos               448\n",
            "Instrumentos musicales     182\n",
            "Juguetes                   324\n",
            "Libros                     173\n",
            "Muebles                    465\n",
            "dtype: int64\n",
            "El total de productos vendidos por categoría en la tienda 2 es: Categoría del Producto\n",
            "Artículos para el hogar    171\n",
            "Deportes y diversión       284\n",
            "Electrodomésticos          312\n",
            "Electrónicos               448\n",
            "Instrumentos musicales     182\n",
            "Juguetes                   324\n",
            "Libros                     173\n",
            "Muebles                    465\n",
            "dtype: int64\n",
            "El total de productos vendidos por categoría en la tienda 3 es: Categoría del Producto\n",
            "Artículos para el hogar    171\n",
            "Deportes y diversión       284\n",
            "Electrodomésticos          312\n",
            "Electrónicos               448\n",
            "Instrumentos musicales     182\n",
            "Juguetes                   324\n",
            "Libros                     173\n",
            "Muebles                    465\n",
            "dtype: int64\n",
            "El total de productos vendidos por categoría en la tienda 4 es: Categoría del Producto\n",
            "Artículos para el hogar    171\n",
            "Deportes y diversión       284\n",
            "Electrodomésticos          312\n",
            "Electrónicos               448\n",
            "Instrumentos musicales     182\n",
            "Juguetes                   324\n",
            "Libros                     173\n",
            "Muebles                    465\n",
            "dtype: int64\n"
          ]
        }
      ],
      "source": [
        "# En este debes calcular la cantidad de productos vendidos por categoría en cada tienda. La idea es agrupar los datos por categoría y contar el número de ventas de cada tipo, mostrando las categorías más populares de cada tienda.\n",
        "\n",
        "\n",
        "productos_vendidos_tienda_uno = tienda.groupby('Categoría del Producto').size()\n",
        "productos_vendidos_tienda_dos = tienda2.groupby('Categoría del Producto').size()\n",
        "productos_vendidos_tienda_tres = tienda3.groupby('Categoría del Producto').size()\n",
        "productos_vendidos_tienda_cuatro = tienda4.groupby('Categoría del Producto').size()\n",
        "\n",
        "print(f'El total de productos vendidos por categoría en la tienda 1 es: {productos_vendidos_tienda_uno}')\n",
        "print(f'El total de productos vendidos por categoría en la tienda 2 es: {productos_vendidos_tienda_dos}')\n",
        "print(f'El total de productos vendidos por categoría en la tienda 3 es: {productos_vendidos_tienda_tres}')\n",
        "print(f'El total de productos vendidos por categoría en la tienda 4 es: {productos_vendidos_tienda_cuatro}')"
      ]
    },
    {
      "cell_type": "code",
      "execution_count": null,
      "metadata": {
        "id": "yZR6cOjXYSk1"
      },
      "outputs": [],
      "source": []
    },
    {
      "cell_type": "markdown",
      "metadata": {
        "id": "Rq6tU_xSY3jk"
      },
      "source": [
        "# 3. Calificación promedio de la tienda\n"
      ]
    },
    {
      "cell_type": "code",
      "execution_count": null,
      "metadata": {
        "id": "bh3jjjJwY5MU"
      },
      "outputs": [],
      "source": []
    },
    {
      "cell_type": "code",
      "execution_count": null,
      "metadata": {
        "id": "I0KkjPoTY88F"
      },
      "outputs": [],
      "source": []
    },
    {
      "cell_type": "markdown",
      "metadata": {
        "id": "DmNp1KPBZCm-"
      },
      "source": [
        "# 4. Productos más y menos vendidos"
      ]
    },
    {
      "cell_type": "code",
      "execution_count": null,
      "metadata": {
        "id": "qoyjqijQZHfF"
      },
      "outputs": [],
      "source": []
    },
    {
      "cell_type": "code",
      "execution_count": null,
      "metadata": {
        "id": "0Sw3sd4IZIGW"
      },
      "outputs": [],
      "source": []
    },
    {
      "cell_type": "markdown",
      "metadata": {
        "id": "Fl0cGi3bZKqU"
      },
      "source": [
        "# 5. Envío promedio por tienda"
      ]
    },
    {
      "cell_type": "code",
      "execution_count": null,
      "metadata": {
        "id": "S2JeaCykZNy9"
      },
      "outputs": [],
      "source": []
    },
    {
      "cell_type": "code",
      "execution_count": null,
      "metadata": {
        "id": "0tSdCie9ZQlt"
      },
      "outputs": [],
      "source": []
    }
  ],
  "metadata": {
    "colab": {
      "provenance": []
    },
    "kernelspec": {
      "display_name": ".venv",
      "language": "python",
      "name": "python3"
    },
    "language_info": {
      "codemirror_mode": {
        "name": "ipython",
        "version": 3
      },
      "file_extension": ".py",
      "mimetype": "text/x-python",
      "name": "python",
      "nbconvert_exporter": "python",
      "pygments_lexer": "ipython3",
      "version": "3.12.3"
    }
  },
  "nbformat": 4,
  "nbformat_minor": 0
}
