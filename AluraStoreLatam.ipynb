{
  "cells": [
    {
      "cell_type": "markdown",
      "metadata": {
        "id": "RhEdWd9YUR6H"
      },
      "source": [
        "### Importación de datos\n",
        "\n"
      ]
    },
    {
      "cell_type": "code",
      "execution_count": 1,
      "metadata": {
        "colab": {
          "base_uri": "https://localhost:8080/",
          "height": 206
        },
        "id": "T3EvaeQ_INIL",
        "outputId": "e9c5efe1-82a3-43ab-e8d7-6d01e4fa3514"
      },
      "outputs": [
        {
          "data": {
            "text/html": [
              "<div>\n",
              "<style scoped>\n",
              "    .dataframe tbody tr th:only-of-type {\n",
              "        vertical-align: middle;\n",
              "    }\n",
              "\n",
              "    .dataframe tbody tr th {\n",
              "        vertical-align: top;\n",
              "    }\n",
              "\n",
              "    .dataframe thead th {\n",
              "        text-align: right;\n",
              "    }\n",
              "</style>\n",
              "<table border=\"1\" class=\"dataframe\">\n",
              "  <thead>\n",
              "    <tr style=\"text-align: right;\">\n",
              "      <th></th>\n",
              "      <th>Producto</th>\n",
              "      <th>Categoría del Producto</th>\n",
              "      <th>Precio</th>\n",
              "      <th>Costo de envío</th>\n",
              "      <th>Fecha de Compra</th>\n",
              "      <th>Vendedor</th>\n",
              "      <th>Lugar de Compra</th>\n",
              "      <th>Calificación</th>\n",
              "      <th>Método de pago</th>\n",
              "      <th>Cantidad de cuotas</th>\n",
              "      <th>lat</th>\n",
              "      <th>lon</th>\n",
              "    </tr>\n",
              "  </thead>\n",
              "  <tbody>\n",
              "    <tr>\n",
              "      <th>0</th>\n",
              "      <td>Asistente virtual</td>\n",
              "      <td>Electrónicos</td>\n",
              "      <td>164300.0</td>\n",
              "      <td>6900.0</td>\n",
              "      <td>16/01/2021</td>\n",
              "      <td>Pedro Gomez</td>\n",
              "      <td>Bogotá</td>\n",
              "      <td>4</td>\n",
              "      <td>Tarjeta de crédito</td>\n",
              "      <td>8</td>\n",
              "      <td>4.60971</td>\n",
              "      <td>-74.08175</td>\n",
              "    </tr>\n",
              "    <tr>\n",
              "      <th>1</th>\n",
              "      <td>Mesa de comedor</td>\n",
              "      <td>Muebles</td>\n",
              "      <td>192300.0</td>\n",
              "      <td>8400.0</td>\n",
              "      <td>18/05/2022</td>\n",
              "      <td>Beatriz Morales</td>\n",
              "      <td>Medellín</td>\n",
              "      <td>1</td>\n",
              "      <td>Tarjeta de crédito</td>\n",
              "      <td>4</td>\n",
              "      <td>6.25184</td>\n",
              "      <td>-75.56359</td>\n",
              "    </tr>\n",
              "    <tr>\n",
              "      <th>2</th>\n",
              "      <td>Juego de mesa</td>\n",
              "      <td>Juguetes</td>\n",
              "      <td>209600.0</td>\n",
              "      <td>15900.0</td>\n",
              "      <td>15/03/2021</td>\n",
              "      <td>Juan Fernandez</td>\n",
              "      <td>Cartagena</td>\n",
              "      <td>1</td>\n",
              "      <td>Tarjeta de crédito</td>\n",
              "      <td>1</td>\n",
              "      <td>10.39972</td>\n",
              "      <td>-75.51444</td>\n",
              "    </tr>\n",
              "    <tr>\n",
              "      <th>3</th>\n",
              "      <td>Microondas</td>\n",
              "      <td>Electrodomésticos</td>\n",
              "      <td>757500.0</td>\n",
              "      <td>41000.0</td>\n",
              "      <td>03/05/2022</td>\n",
              "      <td>Juan Fernandez</td>\n",
              "      <td>Cali</td>\n",
              "      <td>4</td>\n",
              "      <td>Nequi</td>\n",
              "      <td>1</td>\n",
              "      <td>3.43722</td>\n",
              "      <td>-76.52250</td>\n",
              "    </tr>\n",
              "    <tr>\n",
              "      <th>4</th>\n",
              "      <td>Silla de oficina</td>\n",
              "      <td>Muebles</td>\n",
              "      <td>335200.0</td>\n",
              "      <td>20200.0</td>\n",
              "      <td>07/11/2020</td>\n",
              "      <td>Maria Alfonso</td>\n",
              "      <td>Medellín</td>\n",
              "      <td>5</td>\n",
              "      <td>Nequi</td>\n",
              "      <td>1</td>\n",
              "      <td>6.25184</td>\n",
              "      <td>-75.56359</td>\n",
              "    </tr>\n",
              "    <tr>\n",
              "      <th>...</th>\n",
              "      <td>...</td>\n",
              "      <td>...</td>\n",
              "      <td>...</td>\n",
              "      <td>...</td>\n",
              "      <td>...</td>\n",
              "      <td>...</td>\n",
              "      <td>...</td>\n",
              "      <td>...</td>\n",
              "      <td>...</td>\n",
              "      <td>...</td>\n",
              "      <td>...</td>\n",
              "      <td>...</td>\n",
              "    </tr>\n",
              "    <tr>\n",
              "      <th>2354</th>\n",
              "      <td>Iphone 15</td>\n",
              "      <td>Electrónicos</td>\n",
              "      <td>1284400.0</td>\n",
              "      <td>66600.0</td>\n",
              "      <td>15/11/2021</td>\n",
              "      <td>Izabela de León</td>\n",
              "      <td>Medellín</td>\n",
              "      <td>1</td>\n",
              "      <td>Nequi</td>\n",
              "      <td>1</td>\n",
              "      <td>6.25184</td>\n",
              "      <td>-75.56359</td>\n",
              "    </tr>\n",
              "    <tr>\n",
              "      <th>2355</th>\n",
              "      <td>Impresora</td>\n",
              "      <td>Electrónicos</td>\n",
              "      <td>282800.0</td>\n",
              "      <td>15300.0</td>\n",
              "      <td>18/03/2023</td>\n",
              "      <td>Lucas Olivera</td>\n",
              "      <td>Bogotá</td>\n",
              "      <td>5</td>\n",
              "      <td>Nequi</td>\n",
              "      <td>1</td>\n",
              "      <td>4.60971</td>\n",
              "      <td>-74.08175</td>\n",
              "    </tr>\n",
              "    <tr>\n",
              "      <th>2356</th>\n",
              "      <td>Juego de mesa</td>\n",
              "      <td>Juguetes</td>\n",
              "      <td>122900.0</td>\n",
              "      <td>7200.0</td>\n",
              "      <td>06/07/2021</td>\n",
              "      <td>Lucas Olivera</td>\n",
              "      <td>Cali</td>\n",
              "      <td>5</td>\n",
              "      <td>Tarjeta de crédito</td>\n",
              "      <td>4</td>\n",
              "      <td>3.43722</td>\n",
              "      <td>-76.52250</td>\n",
              "    </tr>\n",
              "    <tr>\n",
              "      <th>2357</th>\n",
              "      <td>Cama box</td>\n",
              "      <td>Muebles</td>\n",
              "      <td>691300.0</td>\n",
              "      <td>35000.0</td>\n",
              "      <td>02/05/2022</td>\n",
              "      <td>Pedro Gomez</td>\n",
              "      <td>Pasto</td>\n",
              "      <td>1</td>\n",
              "      <td>Tarjeta de crédito</td>\n",
              "      <td>2</td>\n",
              "      <td>1.21361</td>\n",
              "      <td>-77.28111</td>\n",
              "    </tr>\n",
              "    <tr>\n",
              "      <th>2358</th>\n",
              "      <td>Smartwatch</td>\n",
              "      <td>Electrónicos</td>\n",
              "      <td>195000.0</td>\n",
              "      <td>8600.0</td>\n",
              "      <td>18/06/2022</td>\n",
              "      <td>Felipe Santos</td>\n",
              "      <td>Cali</td>\n",
              "      <td>4</td>\n",
              "      <td>Tarjeta de crédito</td>\n",
              "      <td>1</td>\n",
              "      <td>3.43722</td>\n",
              "      <td>-76.52250</td>\n",
              "    </tr>\n",
              "  </tbody>\n",
              "</table>\n",
              "<p>2359 rows × 12 columns</p>\n",
              "</div>"
            ],
            "text/plain": [
              "               Producto Categoría del Producto     Precio  Costo de envío  \\\n",
              "0     Asistente virtual           Electrónicos   164300.0          6900.0   \n",
              "1       Mesa de comedor                Muebles   192300.0          8400.0   \n",
              "2         Juego de mesa               Juguetes   209600.0         15900.0   \n",
              "3            Microondas      Electrodomésticos   757500.0         41000.0   \n",
              "4      Silla de oficina                Muebles   335200.0         20200.0   \n",
              "...                 ...                    ...        ...             ...   \n",
              "2354          Iphone 15           Electrónicos  1284400.0         66600.0   \n",
              "2355          Impresora           Electrónicos   282800.0         15300.0   \n",
              "2356      Juego de mesa               Juguetes   122900.0          7200.0   \n",
              "2357           Cama box                Muebles   691300.0         35000.0   \n",
              "2358         Smartwatch           Electrónicos   195000.0          8600.0   \n",
              "\n",
              "     Fecha de Compra         Vendedor Lugar de Compra  Calificación  \\\n",
              "0         16/01/2021      Pedro Gomez          Bogotá             4   \n",
              "1         18/05/2022  Beatriz Morales        Medellín             1   \n",
              "2         15/03/2021   Juan Fernandez       Cartagena             1   \n",
              "3         03/05/2022   Juan Fernandez            Cali             4   \n",
              "4         07/11/2020    Maria Alfonso        Medellín             5   \n",
              "...              ...              ...             ...           ...   \n",
              "2354      15/11/2021  Izabela de León        Medellín             1   \n",
              "2355      18/03/2023    Lucas Olivera          Bogotá             5   \n",
              "2356      06/07/2021    Lucas Olivera            Cali             5   \n",
              "2357      02/05/2022      Pedro Gomez           Pasto             1   \n",
              "2358      18/06/2022    Felipe Santos            Cali             4   \n",
              "\n",
              "          Método de pago  Cantidad de cuotas       lat       lon  \n",
              "0     Tarjeta de crédito                   8   4.60971 -74.08175  \n",
              "1     Tarjeta de crédito                   4   6.25184 -75.56359  \n",
              "2     Tarjeta de crédito                   1  10.39972 -75.51444  \n",
              "3                  Nequi                   1   3.43722 -76.52250  \n",
              "4                  Nequi                   1   6.25184 -75.56359  \n",
              "...                  ...                 ...       ...       ...  \n",
              "2354               Nequi                   1   6.25184 -75.56359  \n",
              "2355               Nequi                   1   4.60971 -74.08175  \n",
              "2356  Tarjeta de crédito                   4   3.43722 -76.52250  \n",
              "2357  Tarjeta de crédito                   2   1.21361 -77.28111  \n",
              "2358  Tarjeta de crédito                   1   3.43722 -76.52250  \n",
              "\n",
              "[2359 rows x 12 columns]"
            ]
          },
          "execution_count": 1,
          "metadata": {},
          "output_type": "execute_result"
        }
      ],
      "source": [
        "import pandas as pd\n",
        "import matplotlib as plt\n",
        "\n",
        "url = \"https://raw.githubusercontent.com/alura-es-cursos/challenge1-data-science-latam/refs/heads/main/base-de-datos-challenge1-latam/tienda_1%20.csv\"\n",
        "url2 = \"https://raw.githubusercontent.com/alura-es-cursos/challenge1-data-science-latam/refs/heads/main/base-de-datos-challenge1-latam/tienda_2.csv\"\n",
        "url3 = \"https://raw.githubusercontent.com/alura-es-cursos/challenge1-data-science-latam/refs/heads/main/base-de-datos-challenge1-latam/tienda_3.csv\"\n",
        "url4 = \"https://raw.githubusercontent.com/alura-es-cursos/challenge1-data-science-latam/refs/heads/main/base-de-datos-challenge1-latam/tienda_4.csv\"\n",
        "\n",
        "tienda = pd.read_csv(url)\n",
        "tienda2 = pd.read_csv(url2)\n",
        "tienda3 = pd.read_csv(url3)\n",
        "tienda4 = pd.read_csv(url4)\n",
        "\n",
        "tienda"
      ]
    },
    {
      "cell_type": "code",
      "execution_count": null,
      "metadata": {},
      "outputs": [],
      "source": [
        "lista_tiendas = [ # crear una lista de tuplas con las tiendas para modularizar el código más tarde\n",
        "    ('Tienda N°1', tienda),\n",
        "    ('Tienda N°2', tienda2),\n",
        "    ('Tienda N°3', tienda3),\n",
        "    ('Tienda N°4', tienda4)\n",
        "]\n",
        "\n",
        "tiendas_con_mejor_desempeño = {} # crear un diccionario para almacenar las tiendas con mejor desempeño\n",
        "tiendas_con_peor_desempeño = {} # crear un diccionario para almacenar las tiendas con peor desempeño"
      ]
    },
    {
      "cell_type": "markdown",
      "metadata": {},
      "source": [
        "# 1. Análisis de facturación\n",
        "\n"
      ]
    },
    {
      "cell_type": "code",
      "execution_count": 29,
      "metadata": {},
      "outputs": [
        {
          "name": "stdout",
          "output_type": "stream",
          "text": [
            "facturación total de la Tienda N°1: 1,150,880,400.00\n",
            "facturación total de la Tienda N°2: 1,116,343,500.00\n",
            "facturación total de la Tienda N°3: 1,098,019,600.00\n",
            "facturación total de la Tienda N°4: 1,038,375,700.00\n",
            "\n",
            "La tienda con mayor facturación es la Tienda N°1 con un total de 1,150,880,400.00.\n",
            "La tienda con menor facturación es la Tienda N°4 con un total de 1,038,375,700.00.\n"
          ]
        }
      ],
      "source": [
        "# calcular la suma de la columna Precio de las tiendas\n",
        "def calcular_facturacion(lista_tiendas):\n",
        "    facturaciones = {}  # Inicializar el diccionario dentro de la función\n",
        "    for numero_de_tienda, tienda_df in lista_tiendas:  # recorrer cada tupla (nombre, DataFrame)\n",
        "        facturaciones[numero_de_tienda] = tienda_df['Precio'].sum() # seleccionar la tienda y calcular la suma de la columna precio\n",
        "    return facturaciones # devolver el diccionario\n",
        "\n",
        "facturacion_por_tiendas = calcular_facturacion(lista_tiendas) # llamar a la función y guardar el resultado en una variable\n",
        "\n",
        "# determinar mayor y menor facturación\n",
        "mayor_facturacion = max(facturacion_por_tiendas, key=facturacion_por_tiendas.get)\n",
        "menor_facturacion = min(facturacion_por_tiendas, key=facturacion_por_tiendas.get)\n",
        "\n",
        "# agregar los mejores y peores resultados al diccionario\n",
        "tiendas_con_mejor_desempeño['Mayor facturación'] = mayor_facturacion\n",
        "tiendas_con_peor_desempeño['Menor facturación'] = menor_facturacion\n",
        "\n",
        "# mostrar el total por tienda\n",
        "for numero_tienda, total in facturacion_por_tiendas.items(): \n",
        "    print(f\"facturación total de la {numero_tienda}: {total:,.2f}\")\n",
        "\n",
        "# imprimir resultados\n",
        "print(f'\\nLa tienda con mayor facturación es la {mayor_facturacion} con un total de {facturacion_por_tiendas[mayor_facturacion]:,.2f}.')\n",
        "print(f'La tienda con menor facturación es la {menor_facturacion} con un total de {facturacion_por_tiendas[menor_facturacion]:,.2f}.')\n"
      ]
    },
    {
      "cell_type": "markdown",
      "metadata": {
        "id": "2V_vcAPzWZmR"
      },
      "source": [
        "# 2. Ventas por categoría"
      ]
    },
    {
      "cell_type": "code",
      "execution_count": 5,
      "metadata": {
        "id": "A34YupIuYhfF"
      },
      "outputs": [
        {
          "name": "stdout",
          "output_type": "stream",
          "text": [
            "La categoría más popular de la Tienda N°1 fue: Muebles\n",
            "La categoría más popular de la Tienda N°2 fue: Muebles\n",
            "La categoría más popular de la Tienda N°3 fue: Muebles\n",
            "La categoría más popular de la Tienda N°4 fue: Muebles\n"
          ]
        }
      ],
      "source": [
        "ventas_por_tienda_y_categoria = {} # crear un diccionario para guardar la cantidad de productos vendidos por categoría en cada tienda para evaluar posteriormente\n",
        "ventas_totales_por_tienda = {} # usar un diccioario para almacenar las ventas totales de cada tienda para evaluar mas tarde\n",
        "productos_mas_populares = {} # usar un diccionaro para almacenar la categoría más popular de cada tienda\n",
        "\n",
        "productos_vendidos_tienda_uno = tienda.groupby('Categoría del Producto').size() # calcular el número de productos vendidos por categoría en la tienda 1\n",
        "productos_mas_populares['Tienda N°1'] = productos_vendidos_tienda_uno.idxmax() # usar la función idxmax() para obtener el índice del producto más popular\n",
        "ventas_por_tienda_y_categoria['Tienda N°1'] = productos_vendidos_tienda_uno # guardar el resultado en el diccionario\n",
        "\n",
        "productos_vendidos_tienda_dos = tienda2.groupby('Categoría del Producto').size()\n",
        "productos_mas_populares['Tienda N°2'] = productos_vendidos_tienda_dos.idxmax()\n",
        "ventas_por_tienda_y_categoria['Tienda N°2'] = productos_vendidos_tienda_dos\n",
        "\n",
        "productos_vendidos_tienda_tres = tienda3.groupby('Categoría del Producto').size()\n",
        "productos_mas_populares['Tienda N°3'] = productos_vendidos_tienda_tres.idxmax()\n",
        "ventas_por_tienda_y_categoria['Tienda N°3'] = productos_vendidos_tienda_tres\n",
        "\n",
        "productos_vendidos_tienda_cuatro = tienda4.groupby('Categoría del Producto').size()\n",
        "productos_mas_populares['Tienda N°4'] = productos_vendidos_tienda_cuatro.idxmax()\n",
        "ventas_por_tienda_y_categoria['Tienda N°4'] = productos_vendidos_tienda_cuatro \n",
        "\n",
        "contador = 1 # declarar un contador para generar un índice para numerar las tiendas dentro del diccionario \n",
        "for productos_vendido in ventas_por_tienda_y_categoria.values(): # iterar solo sobre los valores del diccionario\n",
        "    ventas_totales_por_tienda[f'Tienda N°{contador}'] = productos_vendido.sum()\n",
        "    contador += 1 # incrementar el contador para generar el índice de las tiendas\n",
        "\n",
        "for tienda_categoria, categoria in productos_mas_populares.items():\n",
        "    print(f'La categoría más popular de la {tienda_categoria} fue: {categoria}')"
      ]
    },
    {
      "cell_type": "code",
      "execution_count": 6,
      "metadata": {},
      "outputs": [],
      "source": [
        "# Grafico"
      ]
    },
    {
      "cell_type": "markdown",
      "metadata": {
        "id": "Rq6tU_xSY3jk"
      },
      "source": [
        "# 3. Calificación promedio de la tienda\n"
      ]
    },
    {
      "cell_type": "code",
      "execution_count": 7,
      "metadata": {
        "id": "bh3jjjJwY5MU"
      },
      "outputs": [
        {
          "name": "stdout",
          "output_type": "stream",
          "text": [
            "Calificaciones promedio de las tiendas: \n",
            "\n",
            "La calificación de la Tienda N°1 es: 3.98\n",
            "La calificación de la Tienda N°2 es: 4.04\n",
            "La calificación de la Tienda N°3 es: 4.05\n",
            "La calificación de la Tienda N°4 es: 4.0\n",
            "\n",
            "Siendo la tienda con mayor calificación la Tienda N°3 con una calificación de 4.05\n",
            "y siendo la tienda con menor calificación la Tienda N°1 con una calificación de 3.98\n"
          ]
        }
      ],
      "source": [
        "calificaciones_de_tiendas = {} # crear un diccionario para almacenar las calificaciones de cada tienda\n",
        "\n",
        "calificaciones_de_tiendas['Tienda N°1'] = round((tienda['Calificación'].mean()), 2) #usar el metodo mean() para calcular la calificación promedio de la tienda, usar el metodo round() para redondear el resultado a 1 decimal\n",
        "calificaciones_de_tiendas['Tienda N°2'] = round((tienda2['Calificación'].mean()), 2)\n",
        "calificaciones_de_tiendas['Tienda N°3'] = round((tienda3['Calificación'].mean()), 2)\n",
        "calificaciones_de_tiendas['Tienda N°4'] = round((tienda4['Calificación'].mean()), 2)\n",
        "\n",
        "mayor_calificacion = max(calificaciones_de_tiendas, key=calificaciones_de_tiendas.get) # usar la función max() para calcular la tienda con mayor calificación\n",
        "menor_calificacion = min(calificaciones_de_tiendas, key=calificaciones_de_tiendas.get) # usar la función min() para calcular la tienda con menor calificación\n",
        "\n",
        "tiendas_con_mejor_desempeño['Mayor calificación'] = mayor_calificacion # agregar la tienda con mayor calificación al diccionario de tiendas con mejor desempeño\n",
        "tiendas_con_peor_desempeño['Menor calificación'] = menor_calificacion # agregar la tienda con menor calificación al diccionario de tiendas con peor desempeño\n",
        "\n",
        "print('Calificaciones promedio de las tiendas: \\n')\n",
        "\n",
        "for n_tienda, calificacion_tienda in calificaciones_de_tiendas.items():\n",
        "    print(f'La calificación de la {n_tienda} es: {calificacion_tienda}') # iterar sobre el diccionario para imprimir la calificación de cada tienda\n",
        "\n",
        "print(f'\\nSiendo la tienda con mayor calificación la {mayor_calificacion} con una calificación de {calificaciones_de_tiendas[mayor_calificacion]}') \n",
        "print(f'y siendo la tienda con menor calificación la {menor_calificacion} con una calificación de {calificaciones_de_tiendas[menor_calificacion]}') \n"
      ]
    },
    {
      "cell_type": "code",
      "execution_count": 8,
      "metadata": {
        "id": "I0KkjPoTY88F"
      },
      "outputs": [],
      "source": [
        "# Grafico"
      ]
    },
    {
      "cell_type": "markdown",
      "metadata": {
        "id": "DmNp1KPBZCm-"
      },
      "source": [
        "# 4. Productos más y menos vendidos"
      ]
    },
    {
      "cell_type": "code",
      "execution_count": 9,
      "metadata": {
        "id": "qoyjqijQZHfF"
      },
      "outputs": [
        {
          "name": "stdout",
          "output_type": "stream",
          "text": [
            "Tienda N°1:\n",
            " - Producto más vendido: Muebles\n",
            " - Producto menos vendido: Artículos para el hogar\n",
            "\n",
            "Tienda N°2:\n",
            " - Producto más vendido: Muebles\n",
            " - Producto menos vendido: Artículos para el hogar\n",
            "\n",
            "Tienda N°3:\n",
            " - Producto más vendido: Muebles\n",
            " - Producto menos vendido: Artículos para el hogar\n",
            "\n",
            "Tienda N°4:\n",
            " - Producto más vendido: Muebles\n",
            " - Producto menos vendido: Instrumentos musicales\n",
            "\n"
          ]
        }
      ],
      "source": [
        "productos_populares = {} # crear un diccionario para almacenar los resultados\n",
        "\n",
        "for nombre, df in lista_tiendas: # iterar sobre la lista de tiendas\n",
        "    ventas_por_producto = df.groupby('Categoría del Producto').size() # agrupar por la categoría del producto y contar el número de ventas\n",
        "    mas_vendido = ventas_por_producto.idxmax() # usar la función idxmax() para obtener el índice del producto más vendido\n",
        "    menos_vendido = ventas_por_producto.idxmin() # usar la función idxmin() para obtener el índice del producto menos vendido\n",
        "    productos_populares[nombre] = {\n",
        "        'Más vendido': mas_vendido,\n",
        "        'Menos vendido': menos_vendido\n",
        "    }\n",
        "\n",
        "for index_tienda, producto in productos_populares.items(): # iterar sobre el diccionario para mostrar los resultados\n",
        "    print(f\"{index_tienda}:\")\n",
        "    print(f\" - Producto más vendido: {producto['Más vendido']}\")\n",
        "    print(f\" - Producto menos vendido: {producto['Menos vendido']}\\n\")"
      ]
    },
    {
      "cell_type": "code",
      "execution_count": 10,
      "metadata": {
        "id": "0Sw3sd4IZIGW"
      },
      "outputs": [],
      "source": [
        "# Grafico"
      ]
    },
    {
      "cell_type": "markdown",
      "metadata": {
        "id": "Fl0cGi3bZKqU"
      },
      "source": [
        "# 5. Envío promedio por tienda"
      ]
    },
    {
      "cell_type": "code",
      "execution_count": 11,
      "metadata": {
        "id": "S2JeaCykZNy9"
      },
      "outputs": [
        {
          "name": "stdout",
          "output_type": "stream",
          "text": [
            "El costo de envío promedio de la Tienda N° 1 es: 26,018.61\n",
            "El costo de envío promedio de la Tienda N° 2 es: 25,216.24\n",
            "El costo de envío promedio de la Tienda N° 3 es: 24,805.68\n",
            "El costo de envío promedio de la Tienda N° 4 es: 23,459.46\n",
            "\n",
            "La tienda con el costo de envío promedio más alto es la Tienda N° 1 con un costo de 26,018.61\n",
            "La tienda con el costo de envío promedio más bajo es la Tienda N° 4 con un costo de 23,459.46\n"
          ]
        }
      ],
      "source": [
        "costos_envio_promedio = {}\n",
        "\n",
        "envio_promedio_tienda_uno = tienda['Costo de envío'].mean() # acceder a la columna Costo de envío de tienda y usar el medoto mean() para calcular el promedio\n",
        "costos_envio_promedio['Tienda N° 1'] = envio_promedio_tienda_uno # guardar el resultado en el diccionario\n",
        "\n",
        "envio_promedio_tienda_dos = tienda2['Costo de envío'].mean()\n",
        "costos_envio_promedio['Tienda N° 2'] = envio_promedio_tienda_dos\n",
        "\n",
        "envio_promedio_tienda_tres = tienda3['Costo de envío'].mean()\n",
        "costos_envio_promedio['Tienda N° 3'] = envio_promedio_tienda_tres\n",
        "\n",
        "envio_promedio_tienda_cuatro = tienda4['Costo de envío'].mean()\n",
        "costos_envio_promedio['Tienda N° 4'] = envio_promedio_tienda_cuatro \n",
        "\n",
        "tiendas_con_mejor_desempeño['Menor costo de envío promedio'] = min(costos_envio_promedio, key=costos_envio_promedio.get) # agregar la tienda con mayor costo de envío promedio al diccionario de tiendas con mejor desempeño\n",
        "tiendas_con_peor_desempeño['Mayor costo de envío promedio'] = max(costos_envio_promedio, key=costos_envio_promedio.get) # agregar la tienda con menor costo de envío promedio al diccionario de tiendas con peor desempeño\n",
        "\n",
        "for costo_tienda, costo_envio in costos_envio_promedio.items(): # iterar sobre el diccionario para mostrar los resultados\n",
        "    print(f'El costo de envío promedio de la {costo_tienda} es: {costo_envio:,.2f}') # usar el formato :,.2f para mostrar el resultado con dos decimales\n",
        "\n",
        "mayor_costo_promedio = max(costos_envio_promedio, key=costos_envio_promedio.get) # usar la función max() para calcular el costo promedio de envío más alto\n",
        "menor_costo_promedio = min(costos_envio_promedio, key=costos_envio_promedio.get) # usar la función min() para calcular el costo promedio de envío más bajo\n",
        "\n",
        "print(f'\\nLa tienda con el costo de envío promedio más alto es la {mayor_costo_promedio} con un costo de {costos_envio_promedio[mayor_costo_promedio]:,.2f}') \n",
        "print(f'La tienda con el costo de envío promedio más bajo es la {menor_costo_promedio} con un costo de {costos_envio_promedio[menor_costo_promedio]:,.2f}')\n"
      ]
    },
    {
      "cell_type": "code",
      "execution_count": 12,
      "metadata": {},
      "outputs": [],
      "source": [
        "# grafico"
      ]
    }
  ],
  "metadata": {
    "colab": {
      "provenance": []
    },
    "kernelspec": {
      "display_name": "base",
      "language": "python",
      "name": "python3"
    },
    "language_info": {
      "codemirror_mode": {
        "name": "ipython",
        "version": 3
      },
      "file_extension": ".py",
      "mimetype": "text/x-python",
      "name": "python",
      "nbconvert_exporter": "python",
      "pygments_lexer": "ipython3",
      "version": "3.12.2"
    }
  },
  "nbformat": 4,
  "nbformat_minor": 0
}
